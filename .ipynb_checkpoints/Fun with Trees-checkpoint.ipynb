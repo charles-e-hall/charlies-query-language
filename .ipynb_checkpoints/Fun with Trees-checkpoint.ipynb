{
 "cells": [
  {
   "cell_type": "code",
   "execution_count": 25,
   "metadata": {},
   "outputs": [],
   "source": [
    "import string\n",
    "import random"
   ]
  },
  {
   "cell_type": "code",
   "execution_count": 29,
   "metadata": {},
   "outputs": [],
   "source": [
    "class Node:\n",
    "    def __init__(self, key, value):\n",
    "        self.key = key\n",
    "        self.value = value\n",
    "        self.left = None\n",
    "        self.right = None\n",
    "        \n",
    "class Tree:\n",
    "    def __init__(self, root):\n",
    "        self.root = root\n",
    "        \n",
    "\n",
    "def append(node, key, value):\n",
    "    if value < node.value:\n",
    "        if node.left is None:\n",
    "            node.left = Node(key, value)\n",
    "            return None\n",
    "        else:\n",
    "            return append(node.left, key, value)\n",
    "    else:\n",
    "        if node.right is None:\n",
    "            node.right = Node(key, value)\n",
    "            return None\n",
    "        else:\n",
    "            return append(node.right, key, value)\n",
    "        \n",
    "def search(root, key):\n",
    "    if key < root.key:\n",
    "        if root.left is None:\n",
    "            return root.key, root.value\n",
    "        else:\n",
    "            return search(root.left, key)\n",
    "    else:\n",
    "        if root.right is None:\n",
    "            return root.key, root.value\n",
    "        else:\n",
    "            return search(root.right, key)"
   ]
  },
  {
   "cell_type": "code",
   "execution_count": 30,
   "metadata": {},
   "outputs": [],
   "source": [
    "first_node = Node(10, 'A')"
   ]
  },
  {
   "cell_type": "code",
   "execution_count": 31,
   "metadata": {},
   "outputs": [
    {
     "data": {
      "text/plain": [
       "{'key': 10, 'value': 'A', 'left': None, 'right': None}"
      ]
     },
     "execution_count": 31,
     "metadata": {},
     "output_type": "execute_result"
    }
   ],
   "source": [
    "vars(first_node)"
   ]
  },
  {
   "cell_type": "code",
   "execution_count": 32,
   "metadata": {},
   "outputs": [],
   "source": [
    "append(first_node, 8, 'B')"
   ]
  },
  {
   "cell_type": "code",
   "execution_count": 33,
   "metadata": {},
   "outputs": [],
   "source": [
    "append(first_node, 7, 'C')"
   ]
  },
  {
   "cell_type": "code",
   "execution_count": 34,
   "metadata": {},
   "outputs": [
    {
     "data": {
      "text/plain": [
       "{'key': 10,\n",
       " 'value': 'A',\n",
       " 'left': None,\n",
       " 'right': <__main__.Node at 0x107b27f90>}"
      ]
     },
     "execution_count": 34,
     "metadata": {},
     "output_type": "execute_result"
    }
   ],
   "source": [
    "vars(first_node)"
   ]
  },
  {
   "cell_type": "code",
   "execution_count": 26,
   "metadata": {},
   "outputs": [
    {
     "data": {
      "text/plain": [
       "'ABCDEFGHIJKLMNOPQRSTUVWXYZ'"
      ]
     },
     "execution_count": 26,
     "metadata": {},
     "output_type": "execute_result"
    }
   ],
   "source": [
    "string.ascii_uppercase"
   ]
  },
  {
   "cell_type": "code",
   "execution_count": 35,
   "metadata": {},
   "outputs": [],
   "source": [
    "root = Node(50, 'ROOT')\n",
    "\n",
    "for key, value in zip([random.randint(0,100) for i in range(25)], random.choices(string.ascii_uppercase, k=25)):\n",
    "    append(root, key, value)"
   ]
  },
  {
   "cell_type": "code",
   "execution_count": 36,
   "metadata": {},
   "outputs": [
    {
     "data": {
      "text/plain": [
       "(36, 'B')"
      ]
     },
     "execution_count": 36,
     "metadata": {},
     "output_type": "execute_result"
    }
   ],
   "source": [
    "search(root, 20)"
   ]
  },
  {
   "cell_type": "code",
   "execution_count": 37,
   "metadata": {},
   "outputs": [],
   "source": [
    "def make_tree(num_nodes, init=(50, 'ROOT')):\n",
    "    root = Node(init[0], init[1])\n",
    "    for key, value in zip([random.randint(0,num_nodes) for i in range(num_nodes)], \n",
    "                          random.choices(string.ascii_uppercase, k=num_nodes)):\n",
    "        append(root, key, value)\n",
    "        \n",
    "    return root"
   ]
  },
  {
   "cell_type": "code",
   "execution_count": 39,
   "metadata": {},
   "outputs": [],
   "source": [
    "my_tree = make_tree(10000)"
   ]
  },
  {
   "cell_type": "code",
   "execution_count": 40,
   "metadata": {},
   "outputs": [
    {
     "data": {
      "text/plain": [
       "(7642, 'W')"
      ]
     },
     "execution_count": 40,
     "metadata": {},
     "output_type": "execute_result"
    }
   ],
   "source": [
    "search(my_tree, 5243)"
   ]
  },
  {
   "cell_type": "markdown",
   "metadata": {},
   "source": [
    "<h2>Now for the SQL Engine</h2>"
   ]
  },
  {
   "cell_type": "code",
   "execution_count": 57,
   "metadata": {},
   "outputs": [],
   "source": [
    "import struct\n",
    "\n",
    "class Row:\n",
    "    def __init__(self, index, row):\n",
    "        self.index = index\n",
    "        self.row = row\n",
    "        self.left = None\n",
    "        self.right = None\n",
    "        self.parent = None\n",
    "        \n",
    "\n",
    "def insert_row(table, index, row):\n",
    "    if index < table.index:\n",
    "        if table.left is None:\n",
    "            table.left = Row(index, row)\n",
    "            table.left.parent = table\n",
    "            return None\n",
    "        else:\n",
    "            return insert_row(table.left, index, row)\n",
    "    elif index > table.index:\n",
    "        if table.right is None:\n",
    "            table.right = Row(index, row)\n",
    "            table.right.parent = table\n",
    "            return None\n",
    "        else:\n",
    "            return insert_row(table.right, index, row)\n",
    "    else:\n",
    "        print(\"Index {} already exists\".format(index))\n",
    "        return table.index, table.row\n",
    "        \n",
    "def select_row(table, index):\n",
    "    if index == table.index:\n",
    "        return table.index, table.row\n",
    "    elif index < table.index:\n",
    "        if table.left is None:\n",
    "            return table.index, table.row\n",
    "        else:\n",
    "            return select_row(table.left, index)\n",
    "    elif index > table.index:\n",
    "        if table.right is None:\n",
    "            print(\"Index {} Does Not Exist\".format(index))\n",
    "            return table.index, table.value\n",
    "        else:\n",
    "            return select_row(table.right, index)\n",
    "        \n",
    "        \n",
    "def make_table(n_rows):\n",
    "    indices = [x for x in range(n_rows)]\n",
    "    random.shuffle(indices)\n",
    "    rows = random.choices(string.ascii_uppercase, k=n_rows)\n",
    "    \n",
    "    first_index = indices.pop()\n",
    "    first_row = rows.pop()\n",
    "#     table = Row(indices.pop(), rows.pop())\n",
    "    table = Row(first_index, first_row)\n",
    "    list_obj = [[first_index, first_row]]\n",
    "    \n",
    "    for index, row in zip(indices, rows):\n",
    "        insert_row(table, index, row)\n",
    "        list_obj.append([index, row])\n",
    "        \n",
    "        \n",
    "    return table, list_obj\n",
    "\n",
    "\n",
    "def find_in_list(list_obj, search_index):\n",
    "    for index, row in list_obj:\n",
    "        if search_index == index:\n",
    "            return index, row\n",
    "        \n",
    "    print('Index {} Does Not Exist'.format(search_index))\n",
    "    return None\n",
    "\n",
    "\n",
    "# Save a table using pre-order traversal\n",
    "def save_table(table):\n",
    "    return None\n",
    "\n",
    "\n",
    "def see_how_fast(table, list_obj):\n",
    "    table_time = []\n",
    "    list_time = []\n",
    "\n",
    "    for i in range(10000):\n",
    "        start = time.time_ns()\n",
    "        select_row(table, i)\n",
    "        table_time.append(time.time_ns() - start)\n",
    "\n",
    "        start = time.time_ns()\n",
    "        find_in_list(list_obj, i)\n",
    "        list_time.append(time.time_ns() - start)\n",
    "        \n",
    "    return np.mean(list_time), np.mean(table_time), np.mean(list_time) / np.mean(table_time)"
   ]
  },
  {
   "cell_type": "code",
   "execution_count": 58,
   "metadata": {},
   "outputs": [],
   "source": [
    "# Make a table with 10,000 rows\n",
    "table, list_obj = make_table(10000)"
   ]
  },
  {
   "cell_type": "code",
   "execution_count": 59,
   "metadata": {},
   "outputs": [
    {
     "data": {
      "text/plain": [
       "(256, 'O')"
      ]
     },
     "execution_count": 59,
     "metadata": {},
     "output_type": "execute_result"
    }
   ],
   "source": [
    "# Select a row that should exist in the table\n",
    "select_row(table, 256)"
   ]
  },
  {
   "cell_type": "code",
   "execution_count": 60,
   "metadata": {},
   "outputs": [
    {
     "data": {
      "text/plain": [
       "(256, 'O')"
      ]
     },
     "execution_count": 60,
     "metadata": {},
     "output_type": "execute_result"
    }
   ],
   "source": [
    "find_in_list(list_obj, 256)"
   ]
  },
  {
   "cell_type": "code",
   "execution_count": 61,
   "metadata": {},
   "outputs": [],
   "source": [
    "import time"
   ]
  },
  {
   "cell_type": "code",
   "execution_count": 77,
   "metadata": {},
   "outputs": [
    {
     "data": {
      "text/plain": [
       "116000"
      ]
     },
     "execution_count": 77,
     "metadata": {},
     "output_type": "execute_result"
    }
   ],
   "source": [
    "start = time.time_ns()\n",
    "select_row(table, 256)\n",
    "time.time_ns() - start"
   ]
  },
  {
   "cell_type": "code",
   "execution_count": 79,
   "metadata": {},
   "outputs": [],
   "source": [
    "table_time = []\n",
    "list_time = []\n",
    "\n",
    "for i in range(10000):\n",
    "    start = time.time_ns()\n",
    "    select_row(table, i)\n",
    "    table_time.append(time.time_ns() - start)\n",
    "    \n",
    "    start = time.time_ns()\n",
    "    find_in_list(list_obj, i)\n",
    "    list_time.append(time.time_ns() - start)"
   ]
  },
  {
   "cell_type": "code",
   "execution_count": 80,
   "metadata": {},
   "outputs": [],
   "source": [
    "import numpy as np"
   ]
  },
  {
   "cell_type": "code",
   "execution_count": 81,
   "metadata": {},
   "outputs": [
    {
     "name": "stdout",
     "output_type": "stream",
     "text": [
      "8441.8 396642.1\n"
     ]
    }
   ],
   "source": [
    "print(np.mean(table_time), np.mean(list_time))"
   ]
  },
  {
   "cell_type": "code",
   "execution_count": 82,
   "metadata": {},
   "outputs": [
    {
     "data": {
      "text/plain": [
       "46.98548887677983"
      ]
     },
     "execution_count": 82,
     "metadata": {},
     "output_type": "execute_result"
    }
   ],
   "source": [
    "np.mean(list_time) / np.mean(table_time)"
   ]
  },
  {
   "cell_type": "code",
   "execution_count": 83,
   "metadata": {},
   "outputs": [],
   "source": [
    "def see_how_fast(table, list_obj):\n",
    "    table_time = []\n",
    "    list_time = []\n",
    "\n",
    "    for i in range(10000):\n",
    "        start = time.time_ns()\n",
    "        select_row(table, i)\n",
    "        table_time.append(time.time_ns() - start)\n",
    "\n",
    "        start = time.time_ns()\n",
    "        find_in_list(list_obj, i)\n",
    "        list_time.append(time.time_ns() - start)\n",
    "        \n",
    "    return np.mean(list_time), np.mean(table_time), np.mean(list_time) / np.mean(table_time)"
   ]
  },
  {
   "cell_type": "code",
   "execution_count": 84,
   "metadata": {},
   "outputs": [],
   "source": [
    "big_table, big_list = make_table(75000)"
   ]
  },
  {
   "cell_type": "code",
   "execution_count": 85,
   "metadata": {},
   "outputs": [
    {
     "data": {
      "text/plain": [
       "(7703799.2, 28100.3, 274.15362825307915)"
      ]
     },
     "execution_count": 85,
     "metadata": {},
     "output_type": "execute_result"
    }
   ],
   "source": [
    "see_how_fast(big_table, big_list)"
   ]
  },
  {
   "cell_type": "code",
   "execution_count": null,
   "metadata": {},
   "outputs": [],
   "source": []
  }
 ],
 "metadata": {
  "kernelspec": {
   "display_name": "Python 3",
   "language": "python",
   "name": "python3"
  },
  "language_info": {
   "codemirror_mode": {
    "name": "ipython",
    "version": 3
   },
   "file_extension": ".py",
   "mimetype": "text/x-python",
   "name": "python",
   "nbconvert_exporter": "python",
   "pygments_lexer": "ipython3",
   "version": "3.7.4"
  }
 },
 "nbformat": 4,
 "nbformat_minor": 2
}
